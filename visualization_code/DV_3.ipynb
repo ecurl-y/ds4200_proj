{
 "cells": [
  {
   "cell_type": "markdown",
   "id": "fe1b57e2-df87-4e4b-9cbd-2280da479162",
   "metadata": {},
   "source": [
    "# Data Visualization 3: Crime Type Breakdown\n",
    "\n",
    "### Type: Bar Chart\n",
    "\n",
    "### Tool: Altair\n",
    "\n",
    "### Interactivity: Dropdown to select year or district\n",
    "\n",
    "### Customization: Color per crime type\n",
    "\n",
    "### Description: Shows top 10 crime types for a given district or year."
   ]
  },
  {
   "cell_type": "code",
   "execution_count": 1,
   "id": "77776d51-0fbc-4296-ab04-8294eebfc0d2",
   "metadata": {},
   "outputs": [
    {
     "name": "stderr",
     "output_type": "stream",
     "text": [
      "/var/folders/8c/w8t_5nl54xz_438z77mtltl80000gn/T/ipykernel_10748/2461566826.py:32: DeprecationWarning: DataFrameGroupBy.apply operated on the grouping columns. This behavior is deprecated, and in a future version of pandas the grouping columns will be excluded from the operation. Either pass `include_groups=False` to exclude the groupings or explicitly select the grouping columns after groupby to silence this warning.\n",
      "  .apply(lambda df: df.nlargest(10, 'Count'))\n"
     ]
    },
    {
     "data": {
      "text/html": [
       "\n",
       "<style>\n",
       "  #altair-viz-ea866b5bcb5e421abedddee3550cdd4f.vega-embed {\n",
       "    width: 100%;\n",
       "    display: flex;\n",
       "  }\n",
       "\n",
       "  #altair-viz-ea866b5bcb5e421abedddee3550cdd4f.vega-embed details,\n",
       "  #altair-viz-ea866b5bcb5e421abedddee3550cdd4f.vega-embed details summary {\n",
       "    position: relative;\n",
       "  }\n",
       "</style>\n",
       "<div id=\"altair-viz-ea866b5bcb5e421abedddee3550cdd4f\"></div>\n",
       "<script type=\"text/javascript\">\n",
       "  var VEGA_DEBUG = (typeof VEGA_DEBUG == \"undefined\") ? {} : VEGA_DEBUG;\n",
       "  (function(spec, embedOpt){\n",
       "    let outputDiv = document.currentScript.previousElementSibling;\n",
       "    if (outputDiv.id !== \"altair-viz-ea866b5bcb5e421abedddee3550cdd4f\") {\n",
       "      outputDiv = document.getElementById(\"altair-viz-ea866b5bcb5e421abedddee3550cdd4f\");\n",
       "    }\n",
       "\n",
       "    const paths = {\n",
       "      \"vega\": \"https://cdn.jsdelivr.net/npm/vega@5?noext\",\n",
       "      \"vega-lib\": \"https://cdn.jsdelivr.net/npm/vega-lib?noext\",\n",
       "      \"vega-lite\": \"https://cdn.jsdelivr.net/npm/vega-lite@5.20.1?noext\",\n",
       "      \"vega-embed\": \"https://cdn.jsdelivr.net/npm/vega-embed@6?noext\",\n",
       "    };\n",
       "\n",
       "    function maybeLoadScript(lib, version) {\n",
       "      var key = `${lib.replace(\"-\", \"\")}_version`;\n",
       "      return (VEGA_DEBUG[key] == version) ?\n",
       "        Promise.resolve(paths[lib]) :\n",
       "        new Promise(function(resolve, reject) {\n",
       "          var s = document.createElement('script');\n",
       "          document.getElementsByTagName(\"head\")[0].appendChild(s);\n",
       "          s.async = true;\n",
       "          s.onload = () => {\n",
       "            VEGA_DEBUG[key] = version;\n",
       "            return resolve(paths[lib]);\n",
       "          };\n",
       "          s.onerror = () => reject(`Error loading script: ${paths[lib]}`);\n",
       "          s.src = paths[lib];\n",
       "        });\n",
       "    }\n",
       "\n",
       "    function showError(err) {\n",
       "      outputDiv.innerHTML = `<div class=\"error\" style=\"color:red;\">${err}</div>`;\n",
       "      throw err;\n",
       "    }\n",
       "\n",
       "    function displayChart(vegaEmbed) {\n",
       "      vegaEmbed(outputDiv, spec, embedOpt)\n",
       "        .catch(err => showError(`Javascript Error: ${err.message}<br>This usually means there's a typo in your chart specification. See the javascript console for the full traceback.`));\n",
       "    }\n",
       "\n",
       "    if(typeof define === \"function\" && define.amd) {\n",
       "      requirejs.config({paths});\n",
       "      let deps = [\"vega-embed\"];\n",
       "      require(deps, displayChart, err => showError(`Error loading script: ${err.message}`));\n",
       "    } else {\n",
       "      maybeLoadScript(\"vega\", \"5\")\n",
       "        .then(() => maybeLoadScript(\"vega-lite\", \"5.20.1\"))\n",
       "        .then(() => maybeLoadScript(\"vega-embed\", \"6\"))\n",
       "        .catch(showError)\n",
       "        .then(() => displayChart(vegaEmbed));\n",
       "    }\n",
       "  })({\"config\": {\"view\": {\"continuousWidth\": 300, \"continuousHeight\": 300}}, \"data\": {\"name\": \"data-75523eb9998351d394d9abf854a2ced7\"}, \"mark\": {\"type\": \"bar\"}, \"encoding\": {\"color\": {\"field\": \"YEAR\", \"title\": \"Year\", \"type\": \"nominal\"}, \"tooltip\": [{\"field\": \"OFFENSE_DESCRIPTION\", \"type\": \"nominal\"}, {\"field\": \"YEAR\", \"type\": \"quantitative\"}, {\"field\": \"Count\", \"type\": \"quantitative\"}], \"x\": {\"field\": \"Count\", \"title\": \"Number of Crimes\", \"type\": \"quantitative\"}, \"y\": {\"field\": \"OFFENSE_DESCRIPTION\", \"sort\": \"-x\", \"title\": \"Crime Type\", \"type\": \"nominal\"}}, \"height\": 400, \"params\": [{\"name\": \"param_1\", \"select\": {\"type\": \"interval\", \"encodings\": [\"x\", \"y\"]}, \"bind\": \"scales\"}], \"title\": \"Top 10 Crime Types per Year in Boston\", \"width\": 700, \"$schema\": \"https://vega.github.io/schema/vega-lite/v5.20.1.json\", \"datasets\": {\"data-75523eb9998351d394d9abf854a2ced7\": [{\"YEAR\": 2019, \"OFFENSE_DESCRIPTION\": \"SICK/INJURED/MEDICAL - PERSON\", \"Count\": 5852}, {\"YEAR\": 2019, \"OFFENSE_DESCRIPTION\": \"INVESTIGATE PERSON\", \"Count\": 5673}, {\"YEAR\": 2019, \"OFFENSE_DESCRIPTION\": \"M/V - LEAVING SCENE - PROPERTY DAMAGE\", \"Count\": 4836}, {\"YEAR\": 2019, \"OFFENSE_DESCRIPTION\": \"ASSAULT SIMPLE - BATTERY\", \"Count\": 3888}, {\"YEAR\": 2019, \"OFFENSE_DESCRIPTION\": \"INVESTIGATE PROPERTY\", \"Count\": 3626}, {\"YEAR\": 2019, \"OFFENSE_DESCRIPTION\": \"VERBAL DISPUTE\", \"Count\": 3571}, {\"YEAR\": 2019, \"OFFENSE_DESCRIPTION\": \"VANDALISM\", \"Count\": 3474}, {\"YEAR\": 2019, \"OFFENSE_DESCRIPTION\": \"TOWED MOTOR VEHICLE\", \"Count\": 3107}, {\"YEAR\": 2019, \"OFFENSE_DESCRIPTION\": \"LARCENY THEFT FROM BUILDING\", \"Count\": 2507}, {\"YEAR\": 2019, \"OFFENSE_DESCRIPTION\": \"THREATS TO DO BODILY HARM\", \"Count\": 2431}, {\"YEAR\": 2020, \"OFFENSE_DESCRIPTION\": \"INVESTIGATE PERSON\", \"Count\": 5110}, {\"YEAR\": 2020, \"OFFENSE_DESCRIPTION\": \"SICK ASSIST\", \"Count\": 4229}, {\"YEAR\": 2020, \"OFFENSE_DESCRIPTION\": \"M/V - LEAVING SCENE - PROPERTY DAMAGE\", \"Count\": 3577}, {\"YEAR\": 2020, \"OFFENSE_DESCRIPTION\": \"VANDALISM\", \"Count\": 3311}, {\"YEAR\": 2020, \"OFFENSE_DESCRIPTION\": \"INVESTIGATE PROPERTY\", \"Count\": 3216}, {\"YEAR\": 2020, \"OFFENSE_DESCRIPTION\": \"LARCENY THEFT FROM MV - NON-ACCESSORY\", \"Count\": 2700}, {\"YEAR\": 2020, \"OFFENSE_DESCRIPTION\": \"ASSAULT - SIMPLE\", \"Count\": 2593}, {\"YEAR\": 2020, \"OFFENSE_DESCRIPTION\": \"TOWED MOTOR VEHICLE\", \"Count\": 2547}, {\"YEAR\": 2020, \"OFFENSE_DESCRIPTION\": \"SICK/INJURED/MEDICAL - PERSON\", \"Count\": 2436}, {\"YEAR\": 2020, \"OFFENSE_DESCRIPTION\": \"LARCENY SHOPLIFTING\", \"Count\": 2020}, {\"YEAR\": 2021, \"OFFENSE_DESCRIPTION\": \"INVESTIGATE PERSON\", \"Count\": 6752}, {\"YEAR\": 2021, \"OFFENSE_DESCRIPTION\": \"SICK ASSIST\", \"Count\": 4919}, {\"YEAR\": 2021, \"OFFENSE_DESCRIPTION\": \"M/V - LEAVING SCENE - PROPERTY DAMAGE\", \"Count\": 4618}, {\"YEAR\": 2021, \"OFFENSE_DESCRIPTION\": \"INVESTIGATE PROPERTY\", \"Count\": 3484}, {\"YEAR\": 2021, \"OFFENSE_DESCRIPTION\": \"VANDALISM\", \"Count\": 3241}, {\"YEAR\": 2021, \"OFFENSE_DESCRIPTION\": \"TOWED MOTOR VEHICLE\", \"Count\": 3180}, {\"YEAR\": 2021, \"OFFENSE_DESCRIPTION\": \"ASSAULT - SIMPLE\", \"Count\": 2758}, {\"YEAR\": 2021, \"OFFENSE_DESCRIPTION\": \"LARCENY SHOPLIFTING\", \"Count\": 2287}, {\"YEAR\": 2021, \"OFFENSE_DESCRIPTION\": \"M/V ACCIDENT - PROPERTY DAMAGE\", \"Count\": 2063}, {\"YEAR\": 2021, \"OFFENSE_DESCRIPTION\": \"LARCENY THEFT FROM MV - NON-ACCESSORY\", \"Count\": 2027}, {\"YEAR\": 2022, \"OFFENSE_DESCRIPTION\": \"INVESTIGATE PERSON\", \"Count\": 8053}, {\"YEAR\": 2022, \"OFFENSE_DESCRIPTION\": \"SICK ASSIST\", \"Count\": 5476}, {\"YEAR\": 2022, \"OFFENSE_DESCRIPTION\": \"M/V - LEAVING SCENE - PROPERTY DAMAGE\", \"Count\": 4550}, {\"YEAR\": 2022, \"OFFENSE_DESCRIPTION\": \"INVESTIGATE PROPERTY\", \"Count\": 3531}, {\"YEAR\": 2022, \"OFFENSE_DESCRIPTION\": \"TOWED MOTOR VEHICLE\", \"Count\": 3182}, {\"YEAR\": 2022, \"OFFENSE_DESCRIPTION\": \"ASSAULT - SIMPLE\", \"Count\": 2964}, {\"YEAR\": 2022, \"OFFENSE_DESCRIPTION\": \"VANDALISM\", \"Count\": 2898}, {\"YEAR\": 2022, \"OFFENSE_DESCRIPTION\": \"PROPERTY - LOST/ MISSING\", \"Count\": 2495}, {\"YEAR\": 2022, \"OFFENSE_DESCRIPTION\": \"LARCENY SHOPLIFTING\", \"Count\": 2231}, {\"YEAR\": 2022, \"OFFENSE_DESCRIPTION\": \"M/V ACCIDENT - PROPERTY DAMAGE\", \"Count\": 1942}, {\"YEAR\": 2023, \"OFFENSE_DESCRIPTION\": \"INVESTIGATE PERSON\", \"Count\": 6983}, {\"YEAR\": 2023, \"OFFENSE_DESCRIPTION\": \"SICK ASSIST\", \"Count\": 6577}, {\"YEAR\": 2023, \"OFFENSE_DESCRIPTION\": \"M/V - LEAVING SCENE - PROPERTY DAMAGE\", \"Count\": 4558}, {\"YEAR\": 2023, \"OFFENSE_DESCRIPTION\": \"INVESTIGATE PROPERTY\", \"Count\": 3471}, {\"YEAR\": 2023, \"OFFENSE_DESCRIPTION\": \"TOWED MOTOR VEHICLE\", \"Count\": 3255}, {\"YEAR\": 2023, \"OFFENSE_DESCRIPTION\": \"ASSAULT - SIMPLE\", \"Count\": 3194}, {\"YEAR\": 2023, \"OFFENSE_DESCRIPTION\": \"VANDALISM\", \"Count\": 3012}, {\"YEAR\": 2023, \"OFFENSE_DESCRIPTION\": \"LARCENY SHOPLIFTING\", \"Count\": 2887}, {\"YEAR\": 2023, \"OFFENSE_DESCRIPTION\": \"PROPERTY - LOST/ MISSING\", \"Count\": 2481}, {\"YEAR\": 2023, \"OFFENSE_DESCRIPTION\": \"LARCENY THEFT FROM BUILDING\", \"Count\": 2104}, {\"YEAR\": 2024, \"OFFENSE_DESCRIPTION\": \"INVESTIGATE PERSON\", \"Count\": 7820}, {\"YEAR\": 2024, \"OFFENSE_DESCRIPTION\": \"SICK ASSIST\", \"Count\": 6732}, {\"YEAR\": 2024, \"OFFENSE_DESCRIPTION\": \"M/V - LEAVING SCENE - PROPERTY DAMAGE\", \"Count\": 4682}, {\"YEAR\": 2024, \"OFFENSE_DESCRIPTION\": \"LARCENY SHOPLIFTING\", \"Count\": 3728}, {\"YEAR\": 2024, \"OFFENSE_DESCRIPTION\": \"TOWED MOTOR VEHICLE\", \"Count\": 3484}, {\"YEAR\": 2024, \"OFFENSE_DESCRIPTION\": \"INVESTIGATE PROPERTY\", \"Count\": 3458}, {\"YEAR\": 2024, \"OFFENSE_DESCRIPTION\": \"ASSAULT - SIMPLE\", \"Count\": 3235}, {\"YEAR\": 2024, \"OFFENSE_DESCRIPTION\": \"VANDALISM\", \"Count\": 2784}, {\"YEAR\": 2024, \"OFFENSE_DESCRIPTION\": \"PROPERTY - LOST/ MISSING\", \"Count\": 2740}, {\"YEAR\": 2024, \"OFFENSE_DESCRIPTION\": \"VERBAL DISPUTE\", \"Count\": 2202}, {\"YEAR\": 2025, \"OFFENSE_DESCRIPTION\": \"INVESTIGATE PERSON\", \"Count\": 838}, {\"YEAR\": 2025, \"OFFENSE_DESCRIPTION\": \"SICK ASSIST\", \"Count\": 636}, {\"YEAR\": 2025, \"OFFENSE_DESCRIPTION\": \"M/V - LEAVING SCENE - PROPERTY DAMAGE\", \"Count\": 396}, {\"YEAR\": 2025, \"OFFENSE_DESCRIPTION\": \"LARCENY SHOPLIFTING\", \"Count\": 359}, {\"YEAR\": 2025, \"OFFENSE_DESCRIPTION\": \"TOWED MOTOR VEHICLE\", \"Count\": 311}, {\"YEAR\": 2025, \"OFFENSE_DESCRIPTION\": \"INVESTIGATE PROPERTY\", \"Count\": 280}, {\"YEAR\": 2025, \"OFFENSE_DESCRIPTION\": \"ASSAULT - SIMPLE\", \"Count\": 230}, {\"YEAR\": 2025, \"OFFENSE_DESCRIPTION\": \"PROPERTY - LOST/ MISSING\", \"Count\": 218}, {\"YEAR\": 2025, \"OFFENSE_DESCRIPTION\": \"M/V ACCIDENT - PROPERTY DAMAGE\", \"Count\": 190}, {\"YEAR\": 2025, \"OFFENSE_DESCRIPTION\": \"LARCENY THEFT FROM BUILDING\", \"Count\": 176}]}}, {\"mode\": \"vega-lite\"});\n",
       "</script>"
      ],
      "text/plain": [
       "alt.Chart(...)"
      ]
     },
     "metadata": {},
     "output_type": "display_data"
    }
   ],
   "source": [
    "import pandas as pd\n",
    "import altair as alt\n",
    "\n",
    "# Load datasets\n",
    "paths = {\n",
    "    \"2019\": \"2019.csv\",\n",
    "    \"2020\": \"2020.csv\",\n",
    "    \"2021\": \"2021.csv\",\n",
    "    \"2022\": \"crime_reports_2022.csv\",\n",
    "    \"2023\": \"2023_to_present.csv\"\n",
    "}\n",
    "\n",
    "# Read necessary columns\n",
    "dfs = [pd.read_csv(path, low_memory=False)[['OFFENSE_DESCRIPTION', 'YEAR', 'DISTRICT']] for path in paths.values()]\n",
    "\n",
    "# Merge datasets\n",
    "crime_types_df = pd.concat(dfs, ignore_index=True)\n",
    "\n",
    "# Drop rows missing important values\n",
    "crime_types_df.dropna(subset=['OFFENSE_DESCRIPTION', 'YEAR', 'DISTRICT'], inplace=True)\n",
    "\n",
    "# Group by year and offense type\n",
    "offense_summary = (\n",
    "    crime_types_df.groupby(['YEAR', 'OFFENSE_DESCRIPTION'])\n",
    "    .size()\n",
    "    .reset_index(name='Count')\n",
    ")\n",
    "\n",
    "# Keep top 10 crime types per year\n",
    "top_offenses = (\n",
    "    offense_summary.groupby('YEAR')\n",
    "    .apply(lambda df: df.nlargest(10, 'Count'))\n",
    "    .reset_index(drop=True)\n",
    ")\n",
    "\n",
    "# Build interactive bar chart\n",
    "chart = alt.Chart(top_offenses).mark_bar().encode(\n",
    "    x=alt.X('Count:Q', title='Number of Crimes'),\n",
    "    y=alt.Y('OFFENSE_DESCRIPTION:N', sort='-x', title='Crime Type'),\n",
    "    color=alt.Color('YEAR:N', title='Year'),\n",
    "    tooltip=['OFFENSE_DESCRIPTION', 'YEAR', 'Count']\n",
    ").properties(\n",
    "    width=700,\n",
    "    height=400,\n",
    "    title='Top 10 Crime Types per Year in Boston'\n",
    ").interactive()\n",
    "\n",
    "chart.display()"
   ]
  },
  {
   "cell_type": "code",
   "execution_count": 2,
   "id": "45cc2ebc-7098-468c-bb00-e2bcd66da686",
   "metadata": {},
   "outputs": [],
   "source": [
    "# Save the chart as an HTML file\n",
    "chart.save('yearly_crime_types.html')"
   ]
  },
  {
   "cell_type": "code",
   "execution_count": null,
   "id": "58ab0f9b-e274-4ba1-aa50-9479a89b0916",
   "metadata": {},
   "outputs": [],
   "source": []
  }
 ],
 "metadata": {
  "kernelspec": {
   "display_name": "Python 3 (ipykernel)",
   "language": "python",
   "name": "python3"
  },
  "language_info": {
   "codemirror_mode": {
    "name": "ipython",
    "version": 3
   },
   "file_extension": ".py",
   "mimetype": "text/x-python",
   "name": "python",
   "nbconvert_exporter": "python",
   "pygments_lexer": "ipython3",
   "version": "3.12.1"
  }
 },
 "nbformat": 4,
 "nbformat_minor": 5
}
