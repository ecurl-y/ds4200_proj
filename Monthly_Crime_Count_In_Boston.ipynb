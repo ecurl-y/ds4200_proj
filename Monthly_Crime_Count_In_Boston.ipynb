{
 "cells": [
  {
   "cell_type": "markdown",
   "id": "edfb2720-2c27-4677-9293-fa9cc9a9723e",
   "metadata": {},
   "source": [
    "# Data Visualization 1: Altair Time-Series Trend by Year\n",
    "\n",
    "This plot will show the number of crimes per month from 2019 to 2023 to highlight trends over time."
   ]
  },
  {
   "cell_type": "code",
   "execution_count": 1,
   "id": "d106f7c3-65af-4f4e-89f1-c14b94ab8191",
   "metadata": {},
   "outputs": [
    {
     "name": "stdout",
     "output_type": "stream",
     "text": [
      "Requirement already satisfied: altair in /Library/Frameworks/Python.framework/Versions/3.12/lib/python3.12/site-packages (5.5.0)\n",
      "Requirement already satisfied: pandas in /Library/Frameworks/Python.framework/Versions/3.12/lib/python3.12/site-packages (2.2.1)\n",
      "Requirement already satisfied: jinja2 in /Library/Frameworks/Python.framework/Versions/3.12/lib/python3.12/site-packages (from altair) (3.1.3)\n",
      "Requirement already satisfied: jsonschema>=3.0 in /Library/Frameworks/Python.framework/Versions/3.12/lib/python3.12/site-packages (from altair) (4.20.0)\n",
      "Requirement already satisfied: narwhals>=1.14.2 in /Library/Frameworks/Python.framework/Versions/3.12/lib/python3.12/site-packages (from altair) (1.24.2)\n",
      "Requirement already satisfied: packaging in /Library/Frameworks/Python.framework/Versions/3.12/lib/python3.12/site-packages (from altair) (23.2)\n",
      "Requirement already satisfied: typing-extensions>=4.10.0 in /Library/Frameworks/Python.framework/Versions/3.12/lib/python3.12/site-packages (from altair) (4.12.2)\n",
      "Requirement already satisfied: numpy<2,>=1.26.0 in /Library/Frameworks/Python.framework/Versions/3.12/lib/python3.12/site-packages (from pandas) (1.26.3)\n",
      "Requirement already satisfied: python-dateutil>=2.8.2 in /Library/Frameworks/Python.framework/Versions/3.12/lib/python3.12/site-packages (from pandas) (2.8.2)\n",
      "Requirement already satisfied: pytz>=2020.1 in /Library/Frameworks/Python.framework/Versions/3.12/lib/python3.12/site-packages (from pandas) (2023.3.post1)\n",
      "Requirement already satisfied: tzdata>=2022.7 in /Library/Frameworks/Python.framework/Versions/3.12/lib/python3.12/site-packages (from pandas) (2023.4)\n",
      "Requirement already satisfied: attrs>=22.2.0 in /Library/Frameworks/Python.framework/Versions/3.12/lib/python3.12/site-packages (from jsonschema>=3.0->altair) (23.2.0)\n",
      "Requirement already satisfied: jsonschema-specifications>=2023.03.6 in /Library/Frameworks/Python.framework/Versions/3.12/lib/python3.12/site-packages (from jsonschema>=3.0->altair) (2023.12.1)\n",
      "Requirement already satisfied: referencing>=0.28.4 in /Library/Frameworks/Python.framework/Versions/3.12/lib/python3.12/site-packages (from jsonschema>=3.0->altair) (0.32.1)\n",
      "Requirement already satisfied: rpds-py>=0.7.1 in /Library/Frameworks/Python.framework/Versions/3.12/lib/python3.12/site-packages (from jsonschema>=3.0->altair) (0.17.1)\n",
      "Requirement already satisfied: six>=1.5 in /Library/Frameworks/Python.framework/Versions/3.12/lib/python3.12/site-packages (from python-dateutil>=2.8.2->pandas) (1.16.0)\n",
      "Requirement already satisfied: MarkupSafe>=2.0 in /Library/Frameworks/Python.framework/Versions/3.12/lib/python3.12/site-packages (from jinja2->altair) (2.1.3)\n",
      "\n",
      "\u001b[1m[\u001b[0m\u001b[34;49mnotice\u001b[0m\u001b[1;39;49m]\u001b[0m\u001b[39;49m A new release of pip is available: \u001b[0m\u001b[31;49m24.0\u001b[0m\u001b[39;49m -> \u001b[0m\u001b[32;49m25.0.1\u001b[0m\n",
      "\u001b[1m[\u001b[0m\u001b[34;49mnotice\u001b[0m\u001b[1;39;49m]\u001b[0m\u001b[39;49m To update, run: \u001b[0m\u001b[32;49mpip install --upgrade pip\u001b[0m\n",
      "Note: you may need to restart the kernel to use updated packages.\n"
     ]
    }
   ],
   "source": [
    "pip install altair pandas"
   ]
  },
  {
   "cell_type": "code",
   "execution_count": 2,
   "id": "11ad6885-e0f3-4da8-abfa-13973e7b4a6b",
   "metadata": {},
   "outputs": [
    {
     "name": "stderr",
     "output_type": "stream",
     "text": [
      "/var/folders/8c/w8t_5nl54xz_438z77mtltl80000gn/T/ipykernel_6765/152440393.py:16: DtypeWarning: Columns (0) have mixed types. Specify dtype option on import or set low_memory=False.\n",
      "  df = pd.read_csv(path)\n",
      "/var/folders/8c/w8t_5nl54xz_438z77mtltl80000gn/T/ipykernel_6765/152440393.py:16: DtypeWarning: Columns (0) have mixed types. Specify dtype option on import or set low_memory=False.\n",
      "  df = pd.read_csv(path)\n",
      "/var/folders/8c/w8t_5nl54xz_438z77mtltl80000gn/T/ipykernel_6765/152440393.py:16: DtypeWarning: Columns (0) have mixed types. Specify dtype option on import or set low_memory=False.\n",
      "  df = pd.read_csv(path)\n",
      "/var/folders/8c/w8t_5nl54xz_438z77mtltl80000gn/T/ipykernel_6765/152440393.py:16: DtypeWarning: Columns (0) have mixed types. Specify dtype option on import or set low_memory=False.\n",
      "  df = pd.read_csv(path)\n",
      "/var/folders/8c/w8t_5nl54xz_438z77mtltl80000gn/T/ipykernel_6765/152440393.py:16: DtypeWarning: Columns (0) have mixed types. Specify dtype option on import or set low_memory=False.\n",
      "  df = pd.read_csv(path)\n"
     ]
    }
   ],
   "source": [
    "import pandas as pd\n",
    "import altair as alt\n",
    "\n",
    "# Load CSV files\n",
    "files = {\n",
    "    \"2019\": \"2019.csv\",\n",
    "    \"2020\": \"2020.csv\",\n",
    "    \"2021\": \"2021.csv\",\n",
    "    \"2022\": \"crime_reports_2022.csv\",\n",
    "    \"2023\": \"2023_to_present.csv\"\n",
    "}\n",
    "\n",
    "# Read and tag each DataFrame with a year\n",
    "dfs = []\n",
    "for year, path in files.items():\n",
    "    df = pd.read_csv(path)\n",
    "    df[\"YEAR\"] = int(year[:4])\n",
    "    dfs.append(df)\n",
    "\n",
    "# Combine all years into one DataFrame\n",
    "combined_df = pd.concat(dfs, ignore_index=True)\n",
    "combined_df.columns = combined_df.columns.str.strip()"
   ]
  },
  {
   "cell_type": "code",
   "execution_count": 4,
   "id": "506705fd-7e68-45b5-bd61-3d2b1db1b312",
   "metadata": {},
   "outputs": [],
   "source": [
    "# Parse date column\n",
    "combined_df['OCCURRED_ON_DATE'] = pd.to_datetime(combined_df['OCCURRED_ON_DATE'], errors='coerce')\n",
    "combined_df = combined_df.dropna(subset=['OCCURRED_ON_DATE'])\n",
    "\n",
    "# Create 'month' column for grouping\n",
    "combined_df['month'] = combined_df['OCCURRED_ON_DATE'].dt.to_period('M').dt.to_timestamp()\n",
    "\n",
    "# Group by month\n",
    "monthly_counts = combined_df.groupby('month').size().reset_index(name='Crime Count')"
   ]
  },
  {
   "cell_type": "code",
   "execution_count": 6,
   "id": "85e22bd4-5fe0-4ebe-96ac-4294ee1fc3b1",
   "metadata": {},
   "outputs": [
    {
     "data": {
      "text/html": [
       "\n",
       "<style>\n",
       "  #altair-viz-80f97bbdb0e94fa59ef0325229b29fff.vega-embed {\n",
       "    width: 100%;\n",
       "    display: flex;\n",
       "  }\n",
       "\n",
       "  #altair-viz-80f97bbdb0e94fa59ef0325229b29fff.vega-embed details,\n",
       "  #altair-viz-80f97bbdb0e94fa59ef0325229b29fff.vega-embed details summary {\n",
       "    position: relative;\n",
       "  }\n",
       "</style>\n",
       "<div id=\"altair-viz-80f97bbdb0e94fa59ef0325229b29fff\"></div>\n",
       "<script type=\"text/javascript\">\n",
       "  var VEGA_DEBUG = (typeof VEGA_DEBUG == \"undefined\") ? {} : VEGA_DEBUG;\n",
       "  (function(spec, embedOpt){\n",
       "    let outputDiv = document.currentScript.previousElementSibling;\n",
       "    if (outputDiv.id !== \"altair-viz-80f97bbdb0e94fa59ef0325229b29fff\") {\n",
       "      outputDiv = document.getElementById(\"altair-viz-80f97bbdb0e94fa59ef0325229b29fff\");\n",
       "    }\n",
       "\n",
       "    const paths = {\n",
       "      \"vega\": \"https://cdn.jsdelivr.net/npm/vega@5?noext\",\n",
       "      \"vega-lib\": \"https://cdn.jsdelivr.net/npm/vega-lib?noext\",\n",
       "      \"vega-lite\": \"https://cdn.jsdelivr.net/npm/vega-lite@5.20.1?noext\",\n",
       "      \"vega-embed\": \"https://cdn.jsdelivr.net/npm/vega-embed@6?noext\",\n",
       "    };\n",
       "\n",
       "    function maybeLoadScript(lib, version) {\n",
       "      var key = `${lib.replace(\"-\", \"\")}_version`;\n",
       "      return (VEGA_DEBUG[key] == version) ?\n",
       "        Promise.resolve(paths[lib]) :\n",
       "        new Promise(function(resolve, reject) {\n",
       "          var s = document.createElement('script');\n",
       "          document.getElementsByTagName(\"head\")[0].appendChild(s);\n",
       "          s.async = true;\n",
       "          s.onload = () => {\n",
       "            VEGA_DEBUG[key] = version;\n",
       "            return resolve(paths[lib]);\n",
       "          };\n",
       "          s.onerror = () => reject(`Error loading script: ${paths[lib]}`);\n",
       "          s.src = paths[lib];\n",
       "        });\n",
       "    }\n",
       "\n",
       "    function showError(err) {\n",
       "      outputDiv.innerHTML = `<div class=\"error\" style=\"color:red;\">${err}</div>`;\n",
       "      throw err;\n",
       "    }\n",
       "\n",
       "    function displayChart(vegaEmbed) {\n",
       "      vegaEmbed(outputDiv, spec, embedOpt)\n",
       "        .catch(err => showError(`Javascript Error: ${err.message}<br>This usually means there's a typo in your chart specification. See the javascript console for the full traceback.`));\n",
       "    }\n",
       "\n",
       "    if(typeof define === \"function\" && define.amd) {\n",
       "      requirejs.config({paths});\n",
       "      let deps = [\"vega-embed\"];\n",
       "      require(deps, displayChart, err => showError(`Error loading script: ${err.message}`));\n",
       "    } else {\n",
       "      maybeLoadScript(\"vega\", \"5\")\n",
       "        .then(() => maybeLoadScript(\"vega-lite\", \"5.20.1\"))\n",
       "        .then(() => maybeLoadScript(\"vega-embed\", \"6\"))\n",
       "        .catch(showError)\n",
       "        .then(() => displayChart(vegaEmbed));\n",
       "    }\n",
       "  })({\"config\": {\"view\": {\"continuousWidth\": 300, \"continuousHeight\": 300}}, \"data\": {\"name\": \"data-3ecaf11a326d33c3bf8b3e2be014aeeb\"}, \"mark\": {\"type\": \"line\", \"point\": true}, \"encoding\": {\"tooltip\": [{\"field\": \"month\", \"type\": \"temporal\"}, {\"field\": \"Crime Count\", \"type\": \"quantitative\"}], \"x\": {\"field\": \"month\", \"title\": \"Month\", \"type\": \"temporal\"}, \"y\": {\"field\": \"Crime Count\", \"title\": \"Number of Crimes\", \"type\": \"quantitative\"}}, \"height\": 400, \"params\": [{\"name\": \"param_2\", \"select\": {\"type\": \"interval\", \"encodings\": [\"x\", \"y\"]}, \"bind\": \"scales\"}], \"title\": \"Monthly Crime Count in Boston (2019\\u20132023)\", \"width\": 700, \"$schema\": \"https://vega.github.io/schema/vega-lite/v5.20.1.json\", \"datasets\": {\"data-3ecaf11a326d33c3bf8b3e2be014aeeb\": [{\"month\": \"2019-01-01T00:00:00\", \"Crime Count\": 6958}, {\"month\": \"2019-02-01T00:00:00\", \"Crime Count\": 6173}, {\"month\": \"2019-03-01T00:00:00\", \"Crime Count\": 7093}, {\"month\": \"2019-04-01T00:00:00\", \"Crime Count\": 6963}, {\"month\": \"2019-05-01T00:00:00\", \"Crime Count\": 7783}, {\"month\": \"2019-06-01T00:00:00\", \"Crime Count\": 7635}, {\"month\": \"2019-07-01T00:00:00\", \"Crime Count\": 8083}, {\"month\": \"2019-08-01T00:00:00\", \"Crime Count\": 8430}, {\"month\": \"2019-09-01T00:00:00\", \"Crime Count\": 8184}, {\"month\": \"2019-10-01T00:00:00\", \"Crime Count\": 7121}, {\"month\": \"2019-11-01T00:00:00\", \"Crime Count\": 6468}, {\"month\": \"2019-12-01T00:00:00\", \"Crime Count\": 6293}, {\"month\": \"2020-01-01T00:00:00\", \"Crime Count\": 6342}, {\"month\": \"2020-02-01T00:00:00\", \"Crime Count\": 5897}, {\"month\": \"2020-03-01T00:00:00\", \"Crime Count\": 5513}, {\"month\": \"2020-04-01T00:00:00\", \"Crime Count\": 4387}, {\"month\": \"2020-05-01T00:00:00\", \"Crime Count\": 5439}, {\"month\": \"2020-06-01T00:00:00\", \"Crime Count\": 5925}, {\"month\": \"2020-07-01T00:00:00\", \"Crime Count\": 6236}, {\"month\": \"2020-08-01T00:00:00\", \"Crime Count\": 6533}, {\"month\": \"2020-09-01T00:00:00\", \"Crime Count\": 6484}, {\"month\": \"2020-10-01T00:00:00\", \"Crime Count\": 6766}, {\"month\": \"2020-11-01T00:00:00\", \"Crime Count\": 5770}, {\"month\": \"2020-12-01T00:00:00\", \"Crime Count\": 5602}, {\"month\": \"2021-01-01T00:00:00\", \"Crime Count\": 5115}, {\"month\": \"2021-02-01T00:00:00\", \"Crime Count\": 4822}, {\"month\": \"2021-03-01T00:00:00\", \"Crime Count\": 5821}, {\"month\": \"2021-04-01T00:00:00\", \"Crime Count\": 5631}, {\"month\": \"2021-05-01T00:00:00\", \"Crime Count\": 6087}, {\"month\": \"2021-06-01T00:00:00\", \"Crime Count\": 6450}, {\"month\": \"2021-07-01T00:00:00\", \"Crime Count\": 6387}, {\"month\": \"2021-08-01T00:00:00\", \"Crime Count\": 6730}, {\"month\": \"2021-09-01T00:00:00\", \"Crime Count\": 6463}, {\"month\": \"2021-10-01T00:00:00\", \"Crime Count\": 6753}, {\"month\": \"2021-11-01T00:00:00\", \"Crime Count\": 5879}, {\"month\": \"2021-12-01T00:00:00\", \"Crime Count\": 5583}, {\"month\": \"2022-01-01T00:00:00\", \"Crime Count\": 5526}, {\"month\": \"2022-02-01T00:00:00\", \"Crime Count\": 5418}, {\"month\": \"2022-03-01T00:00:00\", \"Crime Count\": 6136}, {\"month\": \"2022-04-01T00:00:00\", \"Crime Count\": 6103}, {\"month\": \"2022-05-01T00:00:00\", \"Crime Count\": 6474}, {\"month\": \"2022-06-01T00:00:00\", \"Crime Count\": 6500}, {\"month\": \"2022-07-01T00:00:00\", \"Crime Count\": 6726}, {\"month\": \"2022-08-01T00:00:00\", \"Crime Count\": 6612}, {\"month\": \"2022-09-01T00:00:00\", \"Crime Count\": 6300}, {\"month\": \"2022-10-01T00:00:00\", \"Crime Count\": 6235}, {\"month\": \"2022-11-01T00:00:00\", \"Crime Count\": 5963}, {\"month\": \"2022-12-01T00:00:00\", \"Crime Count\": 5859}]}}, {\"mode\": \"vega-lite\"});\n",
       "</script>"
      ],
      "text/plain": [
       "alt.Chart(...)"
      ]
     },
     "execution_count": 6,
     "metadata": {},
     "output_type": "execute_result"
    }
   ],
   "source": [
    "# Create Altair line chart\n",
    "line_chart = alt.Chart(monthly_counts).mark_line(point=True).encode(\n",
    "    x=alt.X('month:T', title='Month'),\n",
    "    y=alt.Y('Crime Count:Q', title='Number of Crimes'),\n",
    "    tooltip=['month:T', 'Crime Count:Q']\n",
    ").properties(\n",
    "    title='Monthly Crime Count in Boston (2019–2023)',\n",
    "    width=700,\n",
    "    height=400\n",
    ").interactive()\n",
    "\n",
    "line_chart"
   ]
  },
  {
   "cell_type": "code",
   "execution_count": null,
   "id": "66d7b7a1-29c9-45cb-9202-eafef616fff0",
   "metadata": {},
   "outputs": [],
   "source": []
  }
 ],
 "metadata": {
  "kernelspec": {
   "display_name": "Python 3 (ipykernel)",
   "language": "python",
   "name": "python3"
  },
  "language_info": {
   "codemirror_mode": {
    "name": "ipython",
    "version": 3
   },
   "file_extension": ".py",
   "mimetype": "text/x-python",
   "name": "python",
   "nbconvert_exporter": "python",
   "pygments_lexer": "ipython3",
   "version": "3.12.1"
  }
 },
 "nbformat": 4,
 "nbformat_minor": 5
}
